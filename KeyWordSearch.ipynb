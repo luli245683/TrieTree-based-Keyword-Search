{
 "cells": [
  {
   "cell_type": "markdown",
   "id": "aboriginal-estonia",
   "metadata": {},
   "source": [
    "### TireTree-based Keyword Search"
   ]
  },
  {
   "cell_type": "code",
   "execution_count": 1,
   "id": "hindu-alloy",
   "metadata": {},
   "outputs": [],
   "source": [
    "class TrieNode:\n",
    "    def __init__(self):\n",
    "        self.children = {}\n",
    "        self.is_end = False"
   ]
  },
  {
   "cell_type": "code",
   "execution_count": 2,
   "id": "painful-painting",
   "metadata": {},
   "outputs": [],
   "source": [
    "class Trie:\n",
    "    def __init__(self):\n",
    "        self.root = TrieNode()\n",
    "        \n",
    "    def insert(self, word):\n",
    "        node = self.root\n",
    "        \n",
    "        for char in word:\n",
    "            if char not in node.children:\n",
    "                node.children[char] = TrieNode()\n",
    "            node = node.children[char]\n",
    "        node.is_end = True\n",
    "        \n",
    "    def find(self, prefix):\n",
    "        node = self.root\n",
    "        \n",
    "        for char in prefix:\n",
    "            node = node.children.get(char)\n",
    "            if not node and char in self.root.children:\n",
    "                node = self.root.children.get(char)\n",
    "            elif not node:\n",
    "                node = self.root\n",
    "            if node.is_end:\n",
    "                return True\n",
    "           \n",
    "\n",
    "        return False"
   ]
  },
  {
   "cell_type": "code",
   "execution_count": 3,
   "id": "sunset-valve",
   "metadata": {},
   "outputs": [],
   "source": [
    "keywords = [\"台積電\", \"晶圓\", \"電子\", \"電路\", \"半導體\", \"韌體\", \"台積\"]"
   ]
  },
  {
   "cell_type": "code",
   "execution_count": 4,
   "id": "subject-affairs",
   "metadata": {},
   "outputs": [],
   "source": [
    "with open('./news_titles.txt', 'r') as f:\n",
    "    titles = f.readlines()"
   ]
  },
  {
   "cell_type": "code",
   "execution_count": 5,
   "id": "exotic-needle",
   "metadata": {},
   "outputs": [],
   "source": [
    "def Unicode():\n",
    "    val = random.randint(0x4e00, 0x9fbf)\n",
    "    return chr(val)"
   ]
  },
  {
   "cell_type": "code",
   "execution_count": 6,
   "id": "round-variable",
   "metadata": {},
   "outputs": [],
   "source": [
    "import random \n",
    "import string \n",
    "letters = string.ascii_letters\n",
    "random_keywords = []\n",
    "for i in range(1000):\n",
    "    random_keywords.append(''.join(Unicode() for i in range(3)))"
   ]
  },
  {
   "cell_type": "code",
   "execution_count": 7,
   "id": "hundred-integration",
   "metadata": {},
   "outputs": [
    {
     "data": {
      "text/plain": [
       "['韶牠囝', '渙綃化', '曉岉構', '怽筵彧', '鳂圛鸭', '膫滁甤', '闃韕躄', '诛獹溁', '宖峧貛', '畵椿鑬']"
      ]
     },
     "execution_count": 7,
     "metadata": {},
     "output_type": "execute_result"
    }
   ],
   "source": [
    "random_keywords[:10]"
   ]
  },
  {
   "cell_type": "code",
   "execution_count": 8,
   "id": "adjacent-tomorrow",
   "metadata": {},
   "outputs": [],
   "source": [
    "import time\n",
    "num_keywords = []\n",
    "trie_costs = []\n",
    "bf_costs = []\n",
    "for i in range(1,1002,250):\n",
    "    tmp_keywords = random_keywords[0:i] + keywords\n",
    "    tmp_trie_costs = []\n",
    "    tmp_bf_costs = []\n",
    "    num_titles = []\n",
    "    num_keywords.append(len(tmp_keywords))\n",
    "    for i in range(1, 251, 50):\n",
    "        tmp_titles = titles * i\n",
    "        num_titles.append(len(tmp_titles))\n",
    "        \n",
    "        # trie tree\n",
    "        start_time = time.time()\n",
    "        trie_tree = Trie()\n",
    "        is_matches = []\n",
    "        for keyword in tmp_keywords:\n",
    "            trie_tree.insert(keyword)\n",
    "        for title in tmp_titles:\n",
    "            is_matches.append(trie_tree.find(title))\n",
    "        tmp_trie_costs.append(time.time() - start_time)\n",
    "        \n",
    "        # brute force\n",
    "        start_time = time.time()\n",
    "        bf_results = []\n",
    "        for title in tmp_titles:\n",
    "            for keyword in tmp_keywords:\n",
    "                if keyword in title:\n",
    "                    bf_results.append(title)\n",
    "                    break\n",
    "        tmp_bf_costs.append(time.time() - start_time)\n",
    "    trie_costs.append(tmp_trie_costs)\n",
    "    bf_costs.append(tmp_bf_costs)"
   ]
  },
  {
   "cell_type": "code",
   "execution_count": 9,
   "id": "solid-chase",
   "metadata": {},
   "outputs": [
    {
     "data": {
      "text/html": [
       "<div>\n",
       "<style scoped>\n",
       "    .dataframe tbody tr th:only-of-type {\n",
       "        vertical-align: middle;\n",
       "    }\n",
       "\n",
       "    .dataframe tbody tr th {\n",
       "        vertical-align: top;\n",
       "    }\n",
       "\n",
       "    .dataframe thead th {\n",
       "        text-align: right;\n",
       "    }\n",
       "</style>\n",
       "<table border=\"1\" class=\"dataframe\">\n",
       "  <thead>\n",
       "    <tr style=\"text-align: right;\">\n",
       "      <th></th>\n",
       "      <th>340</th>\n",
       "      <th>17340</th>\n",
       "      <th>34340</th>\n",
       "      <th>51340</th>\n",
       "      <th>68340</th>\n",
       "    </tr>\n",
       "  </thead>\n",
       "  <tbody>\n",
       "    <tr>\n",
       "      <th>8</th>\n",
       "      <td>0.001697</td>\n",
       "      <td>0.075026</td>\n",
       "      <td>0.144685</td>\n",
       "      <td>0.217373</td>\n",
       "      <td>0.286705</td>\n",
       "    </tr>\n",
       "    <tr>\n",
       "      <th>258</th>\n",
       "      <td>0.002223</td>\n",
       "      <td>0.075478</td>\n",
       "      <td>0.149278</td>\n",
       "      <td>0.221971</td>\n",
       "      <td>0.294353</td>\n",
       "    </tr>\n",
       "    <tr>\n",
       "      <th>508</th>\n",
       "      <td>0.002812</td>\n",
       "      <td>0.074785</td>\n",
       "      <td>0.149163</td>\n",
       "      <td>0.220198</td>\n",
       "      <td>0.295152</td>\n",
       "    </tr>\n",
       "    <tr>\n",
       "      <th>758</th>\n",
       "      <td>0.003238</td>\n",
       "      <td>0.073835</td>\n",
       "      <td>0.145732</td>\n",
       "      <td>0.217291</td>\n",
       "      <td>0.292947</td>\n",
       "    </tr>\n",
       "    <tr>\n",
       "      <th>1007</th>\n",
       "      <td>0.019242</td>\n",
       "      <td>0.077526</td>\n",
       "      <td>0.150745</td>\n",
       "      <td>0.223519</td>\n",
       "      <td>0.301813</td>\n",
       "    </tr>\n",
       "  </tbody>\n",
       "</table>\n",
       "</div>"
      ],
      "text/plain": [
       "         340       17340     34340     51340     68340\n",
       "8     0.001697  0.075026  0.144685  0.217373  0.286705\n",
       "258   0.002223  0.075478  0.149278  0.221971  0.294353\n",
       "508   0.002812  0.074785  0.149163  0.220198  0.295152\n",
       "758   0.003238  0.073835  0.145732  0.217291  0.292947\n",
       "1007  0.019242  0.077526  0.150745  0.223519  0.301813"
      ]
     },
     "execution_count": 9,
     "metadata": {},
     "output_type": "execute_result"
    }
   ],
   "source": [
    "import pandas as pd\n",
    "trie_df = pd.DataFrame(data=trie_costs,columns=num_titles,index=num_keywords)\n",
    "trie_df"
   ]
  },
  {
   "cell_type": "code",
   "execution_count": 10,
   "id": "choice-tenant",
   "metadata": {},
   "outputs": [
    {
     "data": {
      "text/html": [
       "<div>\n",
       "<style scoped>\n",
       "    .dataframe tbody tr th:only-of-type {\n",
       "        vertical-align: middle;\n",
       "    }\n",
       "\n",
       "    .dataframe tbody tr th {\n",
       "        vertical-align: top;\n",
       "    }\n",
       "\n",
       "    .dataframe thead th {\n",
       "        text-align: right;\n",
       "    }\n",
       "</style>\n",
       "<table border=\"1\" class=\"dataframe\">\n",
       "  <thead>\n",
       "    <tr style=\"text-align: right;\">\n",
       "      <th></th>\n",
       "      <th>340</th>\n",
       "      <th>17340</th>\n",
       "      <th>34340</th>\n",
       "      <th>51340</th>\n",
       "      <th>68340</th>\n",
       "    </tr>\n",
       "  </thead>\n",
       "  <tbody>\n",
       "    <tr>\n",
       "      <th>8</th>\n",
       "      <td>0.000221</td>\n",
       "      <td>0.010913</td>\n",
       "      <td>0.021603</td>\n",
       "      <td>0.032279</td>\n",
       "      <td>0.043170</td>\n",
       "    </tr>\n",
       "    <tr>\n",
       "      <th>258</th>\n",
       "      <td>0.005708</td>\n",
       "      <td>0.292650</td>\n",
       "      <td>0.581531</td>\n",
       "      <td>0.868970</td>\n",
       "      <td>1.151677</td>\n",
       "    </tr>\n",
       "    <tr>\n",
       "      <th>508</th>\n",
       "      <td>0.011276</td>\n",
       "      <td>0.572185</td>\n",
       "      <td>1.135246</td>\n",
       "      <td>1.696363</td>\n",
       "      <td>2.253173</td>\n",
       "    </tr>\n",
       "    <tr>\n",
       "      <th>758</th>\n",
       "      <td>0.016731</td>\n",
       "      <td>0.852622</td>\n",
       "      <td>1.688779</td>\n",
       "      <td>2.524114</td>\n",
       "      <td>3.352198</td>\n",
       "    </tr>\n",
       "    <tr>\n",
       "      <th>1007</th>\n",
       "      <td>0.022189</td>\n",
       "      <td>1.129941</td>\n",
       "      <td>2.240231</td>\n",
       "      <td>3.349073</td>\n",
       "      <td>4.452981</td>\n",
       "    </tr>\n",
       "  </tbody>\n",
       "</table>\n",
       "</div>"
      ],
      "text/plain": [
       "         340       17340     34340     51340     68340\n",
       "8     0.000221  0.010913  0.021603  0.032279  0.043170\n",
       "258   0.005708  0.292650  0.581531  0.868970  1.151677\n",
       "508   0.011276  0.572185  1.135246  1.696363  2.253173\n",
       "758   0.016731  0.852622  1.688779  2.524114  3.352198\n",
       "1007  0.022189  1.129941  2.240231  3.349073  4.452981"
      ]
     },
     "execution_count": 10,
     "metadata": {},
     "output_type": "execute_result"
    }
   ],
   "source": [
    "bf_df = pd.DataFrame(data=bf_costs,columns=num_titles,index=num_keywords)\n",
    "bf_df"
   ]
  },
  {
   "cell_type": "code",
   "execution_count": 8,
   "id": "cheap-objective",
   "metadata": {},
   "outputs": [
    {
     "name": "stdout",
     "output_type": "stream",
     "text": [
      "Requirement already satisfied: tabulate in /home/ubuntu/anaconda3/lib/python3.7/site-packages (0.8.9)\n",
      "\u001b[33mWARNING: You are using pip version 21.0.1; however, version 21.1 is available.\n",
      "You should consider upgrading via the '/home/ubuntu/anaconda3/bin/python -m pip install --upgrade pip' command.\u001b[0m\n"
     ]
    }
   ],
   "source": [
    "!pip install tabulate"
   ]
  },
  {
   "cell_type": "code",
   "execution_count": 11,
   "id": "considered-albuquerque",
   "metadata": {},
   "outputs": [
    {
     "name": "stdout",
     "output_type": "stream",
     "text": [
      "|      |        340 |     17340 |    34340 |    51340 |    68340 |\n",
      "|-----:|-----------:|----------:|---------:|---------:|---------:|\n",
      "|    8 | 0.0016973  | 0.075026  | 0.144685 | 0.217373 | 0.286705 |\n",
      "|  258 | 0.00222325 | 0.0754781 | 0.149278 | 0.221971 | 0.294353 |\n",
      "|  508 | 0.00281191 | 0.0747848 | 0.149163 | 0.220198 | 0.295152 |\n",
      "|  758 | 0.00323772 | 0.0738354 | 0.145732 | 0.217291 | 0.292947 |\n",
      "| 1007 | 0.0192423  | 0.0775256 | 0.150745 | 0.223519 | 0.301813 |\n"
     ]
    }
   ],
   "source": [
    "print(trie_df.to_markdown())"
   ]
  },
  {
   "cell_type": "code",
   "execution_count": 12,
   "id": "prescribed-webster",
   "metadata": {},
   "outputs": [
    {
     "name": "stdout",
     "output_type": "stream",
     "text": [
      "|      |         340 |     17340 |     34340 |     51340 |     68340 |\n",
      "|-----:|------------:|----------:|----------:|----------:|----------:|\n",
      "|    8 | 0.000220537 | 0.0109131 | 0.0216031 | 0.0322795 | 0.0431697 |\n",
      "|  258 | 0.00570846  | 0.29265   | 0.581531  | 0.86897   | 1.15168   |\n",
      "|  508 | 0.0112755   | 0.572185  | 1.13525   | 1.69636   | 2.25317   |\n",
      "|  758 | 0.016731    | 0.852622  | 1.68878   | 2.52411   | 3.3522    |\n",
      "| 1007 | 0.0221889   | 1.12994   | 2.24023   | 3.34907   | 4.45298   |\n"
     ]
    }
   ],
   "source": [
    "print(bf_df.to_markdown())"
   ]
  },
  {
   "cell_type": "code",
   "execution_count": 11,
   "id": "wireless-bulgaria",
   "metadata": {},
   "outputs": [],
   "source": [
    "trie_tree = Trie()\n",
    "for keyword in keywords:\n",
    "    trie_tree.insert(keyword)"
   ]
  },
  {
   "cell_type": "code",
   "execution_count": 12,
   "id": "several-preservation",
   "metadata": {},
   "outputs": [
    {
     "data": {
      "text/plain": [
       "7"
      ]
     },
     "execution_count": 12,
     "metadata": {},
     "output_type": "execute_result"
    }
   ],
   "source": [
    "len(keywords)"
   ]
  },
  {
   "cell_type": "code",
   "execution_count": 13,
   "id": "portable-formation",
   "metadata": {},
   "outputs": [
    {
     "name": "stdout",
     "output_type": "stream",
     "text": [
      "CPU times: user 1.63 ms, sys: 3 µs, total: 1.63 ms\n",
      "Wall time: 1.63 ms\n"
     ]
    }
   ],
   "source": [
    "%%time\n",
    "is_matches = []\n",
    "for title in titles:\n",
    "    is_matches.append(trie_tree.find(title))"
   ]
  },
  {
   "cell_type": "code",
   "execution_count": 14,
   "id": "promising-county",
   "metadata": {},
   "outputs": [],
   "source": [
    "from itertools import compress\n",
    "results = list(compress(titles, is_matches))"
   ]
  },
  {
   "cell_type": "code",
   "execution_count": 15,
   "id": "committed-native",
   "metadata": {},
   "outputs": [
    {
     "name": "stdout",
     "output_type": "stream",
     "text": [
      "CPU times: user 214 µs, sys: 0 ns, total: 214 µs\n",
      "Wall time: 216 µs\n"
     ]
    }
   ],
   "source": [
    "%%time\n",
    "bf_results = []\n",
    "for title in titles:\n",
    "    for keyword in keywords:\n",
    "        if keyword in title:\n",
    "            bf_results.append(title)\n",
    "            break"
   ]
  },
  {
   "cell_type": "code",
   "execution_count": null,
   "id": "developmental-interval",
   "metadata": {},
   "outputs": [],
   "source": []
  }
 ],
 "metadata": {
  "kernelspec": {
   "display_name": "Python 3",
   "language": "python",
   "name": "python3"
  },
  "language_info": {
   "codemirror_mode": {
    "name": "ipython",
    "version": 3
   },
   "file_extension": ".py",
   "mimetype": "text/x-python",
   "name": "python",
   "nbconvert_exporter": "python",
   "pygments_lexer": "ipython3",
   "version": "3.7.10"
  }
 },
 "nbformat": 4,
 "nbformat_minor": 5
}
