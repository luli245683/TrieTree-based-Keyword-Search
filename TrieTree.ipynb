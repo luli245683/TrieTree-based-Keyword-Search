{
 "cells": [
  {
   "cell_type": "markdown",
   "id": "aboriginal-estonia",
   "metadata": {},
   "source": [
    "### TireTree-based Keyword Search"
   ]
  },
  {
   "cell_type": "code",
   "execution_count": 1,
   "id": "hindu-alloy",
   "metadata": {},
   "outputs": [],
   "source": [
    "class TrieNode:\n",
    "    def __init__(self):\n",
    "        self.children = {}\n",
    "        self.is_end = False"
   ]
  },
  {
   "cell_type": "code",
   "execution_count": 2,
   "id": "painful-painting",
   "metadata": {},
   "outputs": [],
   "source": [
    "class Trie:\n",
    "    def __init__(self):\n",
    "        self.root = TrieNode()\n",
    "        \n",
    "    def insert(self, word):\n",
    "        node = self.root\n",
    "        \n",
    "        for char in word:\n",
    "            if char not in node.children:\n",
    "                node.children[char] = TrieNode()\n",
    "            node = node.children[char]\n",
    "        node.is_end = True\n",
    "        \n",
    "    def find(self, prefix):\n",
    "        node = self.root\n",
    "        \n",
    "        for char in prefix:\n",
    "            node = node.children.get(char)\n",
    "            if not node and char in self.root.children:\n",
    "                node = self.root.children.get(char)\n",
    "            elif not node:\n",
    "                node = self.root\n",
    "            if node.is_end:\n",
    "                return True\n",
    "           \n",
    "\n",
    "        return False"
   ]
  },
  {
   "cell_type": "code",
   "execution_count": 3,
   "id": "sunset-valve",
   "metadata": {},
   "outputs": [],
   "source": [
    "keywords = [\"台積電\", \"晶圓\", \"電子\", \"電路\", \"半導體\", \"韌體\", \"台積\"]"
   ]
  },
  {
   "cell_type": "code",
   "execution_count": 4,
   "id": "subject-affairs",
   "metadata": {},
   "outputs": [],
   "source": [
    "with open('./news_titles.txt', 'r') as f:\n",
    "    titles = f.readlines()"
   ]
  },
  {
   "cell_type": "code",
   "execution_count": 5,
   "id": "adjacent-tomorrow",
   "metadata": {},
   "outputs": [],
   "source": [
    "import time\n",
    "num_keywords = []\n",
    "trie_costs = []\n",
    "bf_costs = []\n",
    "for i in range(1,1002,250):\n",
    "    tmp_keywords = [\"A\"] * i + keywords\n",
    "    tmp_trie_costs = []\n",
    "    tmp_bf_costs = []\n",
    "    num_titles = []\n",
    "    num_keywords.append(len(tmp_keywords))\n",
    "    for i in range(1, 251, 50):\n",
    "        tmp_titles = titles * i\n",
    "        num_titles.append(len(tmp_titles))\n",
    "        \n",
    "        start_time = time.time()\n",
    "        trie_tree = Trie()\n",
    "        is_matches = []\n",
    "        for keyword in tmp_keywords:\n",
    "            trie_tree.insert(keyword)\n",
    "        for title in tmp_titles:\n",
    "            is_matches.append(trie_tree.find(title))\n",
    "        tmp_trie_costs.append(time.time() - start_time)\n",
    "        \n",
    "        start_time = time.time()\n",
    "        bf_results = []\n",
    "        for title in tmp_titles:\n",
    "            for keyword in tmp_keywords:\n",
    "                if keyword in title:\n",
    "                    bf_results.append(title)\n",
    "                    break\n",
    "        tmp_bf_costs.append(time.time() - start_time)\n",
    "    trie_costs.append(tmp_trie_costs)\n",
    "    bf_costs.append(tmp_bf_costs)"
   ]
  },
  {
   "cell_type": "code",
   "execution_count": 6,
   "id": "solid-chase",
   "metadata": {},
   "outputs": [
    {
     "data": {
      "text/html": [
       "<div>\n",
       "<style scoped>\n",
       "    .dataframe tbody tr th:only-of-type {\n",
       "        vertical-align: middle;\n",
       "    }\n",
       "\n",
       "    .dataframe tbody tr th {\n",
       "        vertical-align: top;\n",
       "    }\n",
       "\n",
       "    .dataframe thead th {\n",
       "        text-align: right;\n",
       "    }\n",
       "</style>\n",
       "<table border=\"1\" class=\"dataframe\">\n",
       "  <thead>\n",
       "    <tr style=\"text-align: right;\">\n",
       "      <th></th>\n",
       "      <th>340</th>\n",
       "      <th>17340</th>\n",
       "      <th>34340</th>\n",
       "      <th>51340</th>\n",
       "      <th>68340</th>\n",
       "    </tr>\n",
       "  </thead>\n",
       "  <tbody>\n",
       "    <tr>\n",
       "      <th>8</th>\n",
       "      <td>0.001413</td>\n",
       "      <td>0.073018</td>\n",
       "      <td>0.147575</td>\n",
       "      <td>0.210869</td>\n",
       "      <td>0.280949</td>\n",
       "    </tr>\n",
       "    <tr>\n",
       "      <th>258</th>\n",
       "      <td>0.001670</td>\n",
       "      <td>0.071770</td>\n",
       "      <td>0.141315</td>\n",
       "      <td>0.217430</td>\n",
       "      <td>0.280499</td>\n",
       "    </tr>\n",
       "    <tr>\n",
       "      <th>508</th>\n",
       "      <td>0.001683</td>\n",
       "      <td>0.073545</td>\n",
       "      <td>0.141412</td>\n",
       "      <td>0.212318</td>\n",
       "      <td>0.289525</td>\n",
       "    </tr>\n",
       "    <tr>\n",
       "      <th>758</th>\n",
       "      <td>0.001854</td>\n",
       "      <td>0.071312</td>\n",
       "      <td>0.145125</td>\n",
       "      <td>0.210744</td>\n",
       "      <td>0.280661</td>\n",
       "    </tr>\n",
       "    <tr>\n",
       "      <th>1008</th>\n",
       "      <td>0.001924</td>\n",
       "      <td>0.071115</td>\n",
       "      <td>0.140125</td>\n",
       "      <td>0.215817</td>\n",
       "      <td>0.278619</td>\n",
       "    </tr>\n",
       "  </tbody>\n",
       "</table>\n",
       "</div>"
      ],
      "text/plain": [
       "         340       17340     34340     51340     68340\n",
       "8     0.001413  0.073018  0.147575  0.210869  0.280949\n",
       "258   0.001670  0.071770  0.141315  0.217430  0.280499\n",
       "508   0.001683  0.073545  0.141412  0.212318  0.289525\n",
       "758   0.001854  0.071312  0.145125  0.210744  0.280661\n",
       "1008  0.001924  0.071115  0.140125  0.215817  0.278619"
      ]
     },
     "execution_count": 6,
     "metadata": {},
     "output_type": "execute_result"
    }
   ],
   "source": [
    "import pandas as pd\n",
    "trie_df = pd.DataFrame(data=trie_costs,columns=num_titles,index=num_keywords)\n",
    "trie_df"
   ]
  },
  {
   "cell_type": "code",
   "execution_count": 7,
   "id": "choice-tenant",
   "metadata": {},
   "outputs": [
    {
     "data": {
      "text/html": [
       "<div>\n",
       "<style scoped>\n",
       "    .dataframe tbody tr th:only-of-type {\n",
       "        vertical-align: middle;\n",
       "    }\n",
       "\n",
       "    .dataframe tbody tr th {\n",
       "        vertical-align: top;\n",
       "    }\n",
       "\n",
       "    .dataframe thead th {\n",
       "        text-align: right;\n",
       "    }\n",
       "</style>\n",
       "<table border=\"1\" class=\"dataframe\">\n",
       "  <thead>\n",
       "    <tr style=\"text-align: right;\">\n",
       "      <th></th>\n",
       "      <th>340</th>\n",
       "      <th>17340</th>\n",
       "      <th>34340</th>\n",
       "      <th>51340</th>\n",
       "      <th>68340</th>\n",
       "    </tr>\n",
       "  </thead>\n",
       "  <tbody>\n",
       "    <tr>\n",
       "      <th>8</th>\n",
       "      <td>0.000216</td>\n",
       "      <td>0.010739</td>\n",
       "      <td>0.021196</td>\n",
       "      <td>0.031629</td>\n",
       "      <td>0.042025</td>\n",
       "    </tr>\n",
       "    <tr>\n",
       "      <th>258</th>\n",
       "      <td>0.005972</td>\n",
       "      <td>0.304542</td>\n",
       "      <td>0.602538</td>\n",
       "      <td>0.901527</td>\n",
       "      <td>1.199524</td>\n",
       "    </tr>\n",
       "    <tr>\n",
       "      <th>508</th>\n",
       "      <td>0.011721</td>\n",
       "      <td>0.599167</td>\n",
       "      <td>1.183635</td>\n",
       "      <td>1.773852</td>\n",
       "      <td>2.356044</td>\n",
       "    </tr>\n",
       "    <tr>\n",
       "      <th>758</th>\n",
       "      <td>0.017437</td>\n",
       "      <td>0.891555</td>\n",
       "      <td>1.766044</td>\n",
       "      <td>2.640474</td>\n",
       "      <td>3.513750</td>\n",
       "    </tr>\n",
       "    <tr>\n",
       "      <th>1008</th>\n",
       "      <td>0.023233</td>\n",
       "      <td>1.184505</td>\n",
       "      <td>2.346336</td>\n",
       "      <td>3.507877</td>\n",
       "      <td>4.670350</td>\n",
       "    </tr>\n",
       "  </tbody>\n",
       "</table>\n",
       "</div>"
      ],
      "text/plain": [
       "         340       17340     34340     51340     68340\n",
       "8     0.000216  0.010739  0.021196  0.031629  0.042025\n",
       "258   0.005972  0.304542  0.602538  0.901527  1.199524\n",
       "508   0.011721  0.599167  1.183635  1.773852  2.356044\n",
       "758   0.017437  0.891555  1.766044  2.640474  3.513750\n",
       "1008  0.023233  1.184505  2.346336  3.507877  4.670350"
      ]
     },
     "execution_count": 7,
     "metadata": {},
     "output_type": "execute_result"
    }
   ],
   "source": [
    "bf_df = pd.DataFrame(data=bf_costs,columns=num_titles,index=num_keywords)\n",
    "bf_df"
   ]
  },
  {
   "cell_type": "code",
   "execution_count": 8,
   "id": "cheap-objective",
   "metadata": {},
   "outputs": [
    {
     "name": "stdout",
     "output_type": "stream",
     "text": [
      "Requirement already satisfied: tabulate in /home/ubuntu/anaconda3/lib/python3.7/site-packages (0.8.9)\n",
      "\u001b[33mWARNING: You are using pip version 21.0.1; however, version 21.1 is available.\n",
      "You should consider upgrading via the '/home/ubuntu/anaconda3/bin/python -m pip install --upgrade pip' command.\u001b[0m\n"
     ]
    }
   ],
   "source": [
    "!pip install tabulate"
   ]
  },
  {
   "cell_type": "code",
   "execution_count": 9,
   "id": "considered-albuquerque",
   "metadata": {},
   "outputs": [
    {
     "name": "stdout",
     "output_type": "stream",
     "text": [
      "|      |        340 |     17340 |    34340 |    51340 |    68340 |\n",
      "|-----:|-----------:|----------:|---------:|---------:|---------:|\n",
      "|    8 | 0.00141263 | 0.0730178 | 0.147575 | 0.210869 | 0.280949 |\n",
      "|  258 | 0.00167012 | 0.0717704 | 0.141315 | 0.21743  | 0.280499 |\n",
      "|  508 | 0.00168252 | 0.0735452 | 0.141412 | 0.212318 | 0.289525 |\n",
      "|  758 | 0.00185394 | 0.0713117 | 0.145125 | 0.210744 | 0.280661 |\n",
      "| 1008 | 0.00192428 | 0.071115  | 0.140125 | 0.215817 | 0.278619 |\n"
     ]
    }
   ],
   "source": [
    "print(trie_df.to_markdown())"
   ]
  },
  {
   "cell_type": "code",
   "execution_count": 10,
   "id": "prescribed-webster",
   "metadata": {},
   "outputs": [
    {
     "name": "stdout",
     "output_type": "stream",
     "text": [
      "|      |         340 |     17340 |     34340 |     51340 |     68340 |\n",
      "|-----:|------------:|----------:|----------:|----------:|----------:|\n",
      "|    8 | 0.000215769 | 0.0107393 | 0.0211964 | 0.0316288 | 0.0420249 |\n",
      "|  258 | 0.00597215  | 0.304542  | 0.602538  | 0.901527  | 1.19952   |\n",
      "|  508 | 0.0117214   | 0.599167  | 1.18363   | 1.77385   | 2.35604   |\n",
      "|  758 | 0.017437    | 0.891555  | 1.76604   | 2.64047   | 3.51375   |\n",
      "| 1008 | 0.0232332   | 1.1845    | 2.34634   | 3.50788   | 4.67035   |\n"
     ]
    }
   ],
   "source": [
    "print(bf_df.to_markdown())"
   ]
  },
  {
   "cell_type": "code",
   "execution_count": 11,
   "id": "wireless-bulgaria",
   "metadata": {},
   "outputs": [],
   "source": [
    "trie_tree = Trie()\n",
    "for keyword in keywords:\n",
    "    trie_tree.insert(keyword)"
   ]
  },
  {
   "cell_type": "code",
   "execution_count": 12,
   "id": "several-preservation",
   "metadata": {},
   "outputs": [
    {
     "data": {
      "text/plain": [
       "7"
      ]
     },
     "execution_count": 12,
     "metadata": {},
     "output_type": "execute_result"
    }
   ],
   "source": [
    "len(keywords)"
   ]
  },
  {
   "cell_type": "code",
   "execution_count": 13,
   "id": "portable-formation",
   "metadata": {},
   "outputs": [
    {
     "name": "stdout",
     "output_type": "stream",
     "text": [
      "CPU times: user 1.63 ms, sys: 3 µs, total: 1.63 ms\n",
      "Wall time: 1.63 ms\n"
     ]
    }
   ],
   "source": [
    "%%time\n",
    "is_matches = []\n",
    "for title in titles:\n",
    "    is_matches.append(trie_tree.find(title))"
   ]
  },
  {
   "cell_type": "code",
   "execution_count": 14,
   "id": "promising-county",
   "metadata": {},
   "outputs": [],
   "source": [
    "from itertools import compress\n",
    "results = list(compress(titles, is_matches))"
   ]
  },
  {
   "cell_type": "code",
   "execution_count": 15,
   "id": "committed-native",
   "metadata": {},
   "outputs": [
    {
     "name": "stdout",
     "output_type": "stream",
     "text": [
      "CPU times: user 214 µs, sys: 0 ns, total: 214 µs\n",
      "Wall time: 216 µs\n"
     ]
    }
   ],
   "source": [
    "%%time\n",
    "bf_results = []\n",
    "for title in titles:\n",
    "    for keyword in keywords:\n",
    "        if keyword in title:\n",
    "            bf_results.append(title)\n",
    "            break"
   ]
  },
  {
   "cell_type": "code",
   "execution_count": null,
   "id": "developmental-interval",
   "metadata": {},
   "outputs": [],
   "source": []
  }
 ],
 "metadata": {
  "kernelspec": {
   "display_name": "Python 3",
   "language": "python",
   "name": "python3"
  },
  "language_info": {
   "codemirror_mode": {
    "name": "ipython",
    "version": 3
   },
   "file_extension": ".py",
   "mimetype": "text/x-python",
   "name": "python",
   "nbconvert_exporter": "python",
   "pygments_lexer": "ipython3",
   "version": "3.7.10"
  }
 },
 "nbformat": 4,
 "nbformat_minor": 5
}
