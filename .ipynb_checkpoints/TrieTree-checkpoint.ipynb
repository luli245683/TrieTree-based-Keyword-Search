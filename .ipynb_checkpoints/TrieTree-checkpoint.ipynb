{
 "cells": [
  {
   "cell_type": "code",
   "execution_count": 8,
   "id": "disabled-mechanism",
   "metadata": {},
   "outputs": [],
   "source": [
    "class TrieNode:\n",
    "    def __init__(self):\n",
    "        self.children = {}\n",
    "        self.is_end = False"
   ]
  },
  {
   "cell_type": "code",
   "execution_count": 55,
   "id": "administrative-lucas",
   "metadata": {},
   "outputs": [],
   "source": [
    "class Trie:\n",
    "    def __init__(self):\n",
    "        self.root = TrieNode()\n",
    "        \n",
    "    def insert(self, word):\n",
    "        node = self.root\n",
    "        \n",
    "        for char in word:\n",
    "            if char not in node.children:\n",
    "                node.children[char] = TrieNode()\n",
    "            node = node.children[char]\n",
    "        node.is_end = True\n",
    "        \n",
    "    def search(self, word):\n",
    "        \n",
    "        node = self.find(word)\n",
    "        if not node:\n",
    "            return False\n",
    "        \n",
    "        return node.is_end\n",
    "        \n",
    "    def find(self, prefix):\n",
    "        node = self.root\n",
    "        \n",
    "        for char in prefix:\n",
    "            if node in self.root.children:\n",
    "                node = node.children.get(char)\n",
    "                print(node.children)\n",
    "                if node.is_end:\n",
    "                    print(node.children)\n",
    "                    return True\n",
    "\n",
    "        return False"
   ]
  },
  {
   "cell_type": "code",
   "execution_count": 56,
   "id": "hired-rental",
   "metadata": {},
   "outputs": [],
   "source": [
    "keywords = [\"台積電\", \"晶圓\", \"電子\", \"電路\", \"半導體\", \"韌體\", \"台積\"]\n",
    "trie_tree = Trie()\n",
    "for keyword in keywords:\n",
    "    trie_tree.insert(keyword)"
   ]
  },
  {
   "cell_type": "code",
   "execution_count": 33,
   "id": "veterinary-worthy",
   "metadata": {},
   "outputs": [
    {
     "data": {
      "text/plain": [
       "False"
      ]
     },
     "execution_count": 33,
     "metadata": {},
     "output_type": "execute_result"
    }
   ],
   "source": [
    "trie_tree.search(\"電子\")"
   ]
  },
  {
   "cell_type": "code",
   "execution_count": 31,
   "id": "olive-pierce",
   "metadata": {},
   "outputs": [],
   "source": [
    "texts = \"台電子股價持續上漲上看1000\""
   ]
  },
  {
   "cell_type": "code",
   "execution_count": 54,
   "id": "english-anaheim",
   "metadata": {},
   "outputs": [
    {
     "name": "stdout",
     "output_type": "stream",
     "text": [
      "False\n"
     ]
    }
   ],
   "source": [
    "print(trie_tree.find(texts))"
   ]
  },
  {
   "cell_type": "code",
   "execution_count": null,
   "id": "alternative-mileage",
   "metadata": {},
   "outputs": [],
   "source": []
  }
 ],
 "metadata": {
  "kernelspec": {
   "display_name": "Python 3",
   "language": "python",
   "name": "python3"
  },
  "language_info": {
   "codemirror_mode": {
    "name": "ipython",
    "version": 3
   },
   "file_extension": ".py",
   "mimetype": "text/x-python",
   "name": "python",
   "nbconvert_exporter": "python",
   "pygments_lexer": "ipython3",
   "version": "3.7.10"
  }
 },
 "nbformat": 4,
 "nbformat_minor": 5
}
